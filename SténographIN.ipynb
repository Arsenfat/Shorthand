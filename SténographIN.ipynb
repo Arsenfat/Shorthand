{
 "cells": [
  {
   "cell_type": "code",
   "execution_count": 1,
   "metadata": {},
   "outputs": [],
   "source": [
    "import sys\n",
    "from PIL import Image\n",
    "\n",
    "#Ouvre les images\n",
    "secret = Image.open(\"secret.jpg\")\n",
    "carrier = Image.open(\"carrier.jpg\")"
   ]
  },
  {
   "cell_type": "code",
   "execution_count": 2,
   "metadata": {},
   "outputs": [],
   "source": [
    "width, height = carrier.size\n",
    "\n",
    "#Boucle sur tout les pixels de l'image.\n",
    "#On suppose que les deux images ont la même résolution.\n",
    "for x in range(width):\n",
    "  for y in range(height):\n",
    "    \n",
    "    #On récupère les pixel au coords x et y des deux images\n",
    "    px = carrier.getpixel((x, y))\n",
    "    tpx = secret.getpixel((x, y))\n",
    "    \n",
    "    #Décalle les quatres MSB de quatre vers la droite\n",
    "    spx = (tpx[0] >> 4, tpx[1] >> 4, tpx[2] >> 4)\n",
    "    \n",
    "    #Remplace les quatres premier LSB par 0\n",
    "    px = (px[0] - (px[0] & 15), px[1] - (px[1] & 15), px[2] - (px[2] & 15))\n",
    "    \n",
    "    #Ajoute les quatre MSB du secret au quatre LSB du carrier\n",
    "    px = (spx[0] | px[0], spx[1] | px[1], spx[2] | px[2])\n",
    "    \n",
    "    #reconstruit l'image\n",
    "    carrier.putpixel((x, y), px)"
   ]
  },
  {
   "cell_type": "code",
   "execution_count": 3,
   "metadata": {},
   "outputs": [],
   "source": [
    "#Sauvegarde l'image\n",
    "carrier.save(\"NothingToSeeHere.bmp\", format=\"BMP\")"
   ]
  }
 ],
 "metadata": {
  "kernelspec": {
   "display_name": "Python 3",
   "language": "python",
   "name": "python3"
  },
  "language_info": {
   "codemirror_mode": {
    "name": "ipython",
    "version": 3
   },
   "file_extension": ".py",
   "mimetype": "text/x-python",
   "name": "python",
   "nbconvert_exporter": "python",
   "pygments_lexer": "ipython3",
   "version": "3.7.4"
  }
 },
 "nbformat": 4,
 "nbformat_minor": 2
}

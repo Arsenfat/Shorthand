{
 "cells": [
  {
   "cell_type": "code",
   "execution_count": 1,
   "metadata": {},
   "outputs": [],
   "source": [
    "import sys\n",
    "from PIL import Image\n",
    "\n",
    "#Ouvre l'image\n",
    "carrier = Image.open(\"NothingToSeeHere.bmp\")"
   ]
  },
  {
   "cell_type": "code",
   "execution_count": 2,
   "metadata": {},
   "outputs": [],
   "source": [
    "width, height = carrier.size\n",
    "theSecret = Image.new(mode = \"RGB\", size = carrier.size)\n",
    "\n",
    "#Boucle sur tout les pixels de l'image.\n",
    "#On suppose que les deux images ont la même résolution.\n",
    "for x in range(width):\n",
    "  for y in range(height):\n",
    "    \n",
    "    #On récupère les pixel au coords x et y des deux images\n",
    "    px = carrier.getpixel((x, y))\n",
    "    \n",
    "    #Décalle les quatres MSB de quatre vers la gauche\n",
    "    spx = ((px[0] << 4) & 255, (px[1] << 4) & 255, (px[2] << 4) & 255) #prob ici\n",
    "    print(\"{0:b}\".format(px[0]))\n",
    "    print(\"{0:b}\".format(spx[0]))\n",
    "    print(\"||||||||||||||||||||||\")\n",
    "    theSecret.putpixel((x, y), spx)"
   ]
  },
  {
   "cell_type": "code",
   "execution_count": 3,
   "metadata": {},
   "outputs": [],
   "source": [
    "#Sauvegarde l'image\n",
    "theSecret.save(\"theSecret.bmp\", format=\"BMP\")"
   ]
  }
 ],
 "metadata": {
  "kernelspec": {
   "display_name": "Python 3",
   "language": "python",
   "name": "python3"
  },
  "language_info": {
   "codemirror_mode": {
    "name": "ipython",
    "version": 3
   },
   "file_extension": ".py",
   "mimetype": "text/x-python",
   "name": "python",
   "nbconvert_exporter": "python",
   "pygments_lexer": "ipython3",
   "version": "3.7.4"
  }
 },
 "nbformat": 4,
 "nbformat_minor": 2
}
